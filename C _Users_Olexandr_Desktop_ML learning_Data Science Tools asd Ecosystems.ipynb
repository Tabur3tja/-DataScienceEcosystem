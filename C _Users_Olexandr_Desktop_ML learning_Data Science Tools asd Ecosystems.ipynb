{
 "cells": [
  {
   "cell_type": "markdown",
   "id": "1839ec73",
   "metadata": {},
   "source": [
    "# Data Science Tools asd Ecosystems"
   ]
  },
  {
   "cell_type": "markdown",
   "id": "82c3456d",
   "metadata": {},
   "source": [
    "In this notebook, Data Science Tools and Ecosystem are summarized."
   ]
  },
  {
   "cell_type": "markdown",
   "id": "4ee8b971",
   "metadata": {},
   "source": [
    "<b>Objectives:</b>\n",
    "    <ul>\n",
    "        <li>List popular languages for Data Science</li>\n",
    "        <li>List popular libraries for Data Science</li>\n",
    "        <li>examples of evaluating arithmetic expressions in Python</li>\n",
    "    </ul>"
   ]
  },
  {
   "cell_type": "markdown",
   "id": "c93fcddb",
   "metadata": {},
   "source": [
    "Some of the popular languages that Data Scientists use are:\n",
    "<ol>\n",
    "    <li>R</li>\n",
    "    <li>Python</li>\n",
    "    <li>C++</li>\n",
    "</ol>"
   ]
  },
  {
   "cell_type": "markdown",
   "id": "719505ab",
   "metadata": {},
   "source": [
    "Some of the commonly used libraries used by Data Scientists include:\n",
    "<ol>\n",
    "    <li>pandas</li>\n",
    "    <li>matplotlib</li>\n",
    "    <li>numpy</li>\n",
    "</ol>"
   ]
  },
  {
   "cell_type": "markdown",
   "id": "b532e04f",
   "metadata": {},
   "source": [
    "| Data Science Tools |\n",
    "|:----------------|\n",
    "| Apache Spark |\n",
    "| Jupyter Notebook |\n",
    "| Git |"
   ]
  },
  {
   "cell_type": "markdown",
   "id": "2b4eef38",
   "metadata": {},
   "source": [
    "### Below are a few examples of evaluating arithmetic expressions in Python\n",
    "a = 1 + 2\n",
    "b = 4 * 3\n",
    "b != a\n",
    "c = a + b"
   ]
  },
  {
   "cell_type": "code",
   "execution_count": 8,
   "id": "15a4ff34",
   "metadata": {},
   "outputs": [
    {
     "data": {
      "text/plain": [
       "17"
      ]
     },
     "execution_count": 8,
     "metadata": {},
     "output_type": "execute_result"
    }
   ],
   "source": [
    "(3*4)+5\n",
    "#This a simple arithmetic expression to mutiply then add integers\n"
   ]
  },
  {
   "cell_type": "code",
   "execution_count": 10,
   "id": "148cd092",
   "metadata": {},
   "outputs": [
    {
     "data": {
      "text/plain": [
       "3.3333333333333335"
      ]
     },
     "execution_count": 10,
     "metadata": {},
     "output_type": "execute_result"
    }
   ],
   "source": [
    "minutes = 200\n",
    "minutes / 60\n",
    "#This will convert 200 minutes to hours by diving by 60"
   ]
  },
  {
   "cell_type": "markdown",
   "id": "e8fe9430",
   "metadata": {},
   "source": [
    "## Author\n",
    "Alexandr Podynihlazov"
   ]
  },
  {
   "cell_type": "code",
   "execution_count": null,
   "id": "540f0494",
   "metadata": {},
   "outputs": [],
   "source": []
  }
 ],
 "metadata": {
  "kernelspec": {
   "display_name": "Python 3 (ipykernel)",
   "language": "python",
   "name": "python3"
  },
  "language_info": {
   "codemirror_mode": {
    "name": "ipython",
    "version": 3
   },
   "file_extension": ".py",
   "mimetype": "text/x-python",
   "name": "python",
   "nbconvert_exporter": "python",
   "pygments_lexer": "ipython3",
   "version": "3.11.4"
  }
 },
 "nbformat": 4,
 "nbformat_minor": 5
}
